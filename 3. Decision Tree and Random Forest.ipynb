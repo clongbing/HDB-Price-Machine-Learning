{
 "cells": [
  {
   "cell_type": "markdown",
   "metadata": {},
   "source": [
    "# Decision Tree"
   ]
  },
  {
   "cell_type": "code",
   "execution_count": 164,
   "metadata": {},
   "outputs": [],
   "source": [
    "import pandas as pd\n",
    "import numpy as np\n",
    "import matplotlib.pyplot as plt\n",
    "import seaborn as sns\n",
    "%matplotlib inline"
   ]
  },
  {
   "cell_type": "code",
   "execution_count": 203,
   "metadata": {},
   "outputs": [],
   "source": [
    "#Read in df\n",
    "hdb=pd.read_csv(r\"C:\\Users\\Long Bing\\Desktop\\HDB Project\\Resale_Flats_Dataset_2012_Onwards_Non_Collinear_OHE.csv\")"
   ]
  },
  {
   "cell_type": "code",
   "execution_count": 204,
   "metadata": {},
   "outputs": [
    {
     "data": {
      "text/html": [
       "<div>\n",
       "<style scoped>\n",
       "    .dataframe tbody tr th:only-of-type {\n",
       "        vertical-align: middle;\n",
       "    }\n",
       "\n",
       "    .dataframe tbody tr th {\n",
       "        vertical-align: top;\n",
       "    }\n",
       "\n",
       "    .dataframe thead th {\n",
       "        text-align: right;\n",
       "    }\n",
       "</style>\n",
       "<table border=\"1\" class=\"dataframe\">\n",
       "  <thead>\n",
       "    <tr style=\"text-align: right;\">\n",
       "      <th></th>\n",
       "      <th>floor_area_sqm</th>\n",
       "      <th>resale_price</th>\n",
       "      <th>remaining_lease</th>\n",
       "      <th>BEDOK</th>\n",
       "      <th>BISHAN</th>\n",
       "      <th>BUKIT BATOK</th>\n",
       "      <th>BUKIT MERAH</th>\n",
       "      <th>BUKIT PANJANG</th>\n",
       "      <th>BUKIT TIMAH</th>\n",
       "      <th>CENTRAL AREA</th>\n",
       "      <th>...</th>\n",
       "      <th>28 TO 30</th>\n",
       "      <th>31 TO 33</th>\n",
       "      <th>31 TO 35</th>\n",
       "      <th>34 TO 36</th>\n",
       "      <th>36 TO 40</th>\n",
       "      <th>37 TO 39</th>\n",
       "      <th>40 TO 42</th>\n",
       "      <th>43 TO 45</th>\n",
       "      <th>46 TO 48</th>\n",
       "      <th>49 TO 51</th>\n",
       "    </tr>\n",
       "  </thead>\n",
       "  <tbody>\n",
       "    <tr>\n",
       "      <th>0</th>\n",
       "      <td>44</td>\n",
       "      <td>257800</td>\n",
       "      <td>66</td>\n",
       "      <td>0</td>\n",
       "      <td>0</td>\n",
       "      <td>0</td>\n",
       "      <td>0</td>\n",
       "      <td>0</td>\n",
       "      <td>0</td>\n",
       "      <td>0</td>\n",
       "      <td>...</td>\n",
       "      <td>0</td>\n",
       "      <td>0</td>\n",
       "      <td>0</td>\n",
       "      <td>0</td>\n",
       "      <td>0</td>\n",
       "      <td>0</td>\n",
       "      <td>0</td>\n",
       "      <td>0</td>\n",
       "      <td>0</td>\n",
       "      <td>0</td>\n",
       "    </tr>\n",
       "    <tr>\n",
       "      <th>1</th>\n",
       "      <td>44</td>\n",
       "      <td>263000</td>\n",
       "      <td>65</td>\n",
       "      <td>0</td>\n",
       "      <td>0</td>\n",
       "      <td>0</td>\n",
       "      <td>0</td>\n",
       "      <td>0</td>\n",
       "      <td>0</td>\n",
       "      <td>0</td>\n",
       "      <td>...</td>\n",
       "      <td>0</td>\n",
       "      <td>0</td>\n",
       "      <td>0</td>\n",
       "      <td>0</td>\n",
       "      <td>0</td>\n",
       "      <td>0</td>\n",
       "      <td>0</td>\n",
       "      <td>0</td>\n",
       "      <td>0</td>\n",
       "      <td>0</td>\n",
       "    </tr>\n",
       "    <tr>\n",
       "      <th>2</th>\n",
       "      <td>44</td>\n",
       "      <td>275000</td>\n",
       "      <td>65</td>\n",
       "      <td>0</td>\n",
       "      <td>0</td>\n",
       "      <td>0</td>\n",
       "      <td>0</td>\n",
       "      <td>0</td>\n",
       "      <td>0</td>\n",
       "      <td>0</td>\n",
       "      <td>...</td>\n",
       "      <td>0</td>\n",
       "      <td>0</td>\n",
       "      <td>0</td>\n",
       "      <td>0</td>\n",
       "      <td>0</td>\n",
       "      <td>0</td>\n",
       "      <td>0</td>\n",
       "      <td>0</td>\n",
       "      <td>0</td>\n",
       "      <td>0</td>\n",
       "    </tr>\n",
       "    <tr>\n",
       "      <th>3</th>\n",
       "      <td>45</td>\n",
       "      <td>260000</td>\n",
       "      <td>73</td>\n",
       "      <td>0</td>\n",
       "      <td>0</td>\n",
       "      <td>0</td>\n",
       "      <td>0</td>\n",
       "      <td>0</td>\n",
       "      <td>0</td>\n",
       "      <td>0</td>\n",
       "      <td>...</td>\n",
       "      <td>0</td>\n",
       "      <td>0</td>\n",
       "      <td>0</td>\n",
       "      <td>0</td>\n",
       "      <td>0</td>\n",
       "      <td>0</td>\n",
       "      <td>0</td>\n",
       "      <td>0</td>\n",
       "      <td>0</td>\n",
       "      <td>0</td>\n",
       "    </tr>\n",
       "    <tr>\n",
       "      <th>4</th>\n",
       "      <td>45</td>\n",
       "      <td>226000</td>\n",
       "      <td>73</td>\n",
       "      <td>0</td>\n",
       "      <td>0</td>\n",
       "      <td>0</td>\n",
       "      <td>0</td>\n",
       "      <td>0</td>\n",
       "      <td>0</td>\n",
       "      <td>0</td>\n",
       "      <td>...</td>\n",
       "      <td>0</td>\n",
       "      <td>0</td>\n",
       "      <td>0</td>\n",
       "      <td>0</td>\n",
       "      <td>0</td>\n",
       "      <td>0</td>\n",
       "      <td>0</td>\n",
       "      <td>0</td>\n",
       "      <td>0</td>\n",
       "      <td>0</td>\n",
       "    </tr>\n",
       "    <tr>\n",
       "      <th>...</th>\n",
       "      <td>...</td>\n",
       "      <td>...</td>\n",
       "      <td>...</td>\n",
       "      <td>...</td>\n",
       "      <td>...</td>\n",
       "      <td>...</td>\n",
       "      <td>...</td>\n",
       "      <td>...</td>\n",
       "      <td>...</td>\n",
       "      <td>...</td>\n",
       "      <td>...</td>\n",
       "      <td>...</td>\n",
       "      <td>...</td>\n",
       "      <td>...</td>\n",
       "      <td>...</td>\n",
       "      <td>...</td>\n",
       "      <td>...</td>\n",
       "      <td>...</td>\n",
       "      <td>...</td>\n",
       "      <td>...</td>\n",
       "      <td>...</td>\n",
       "    </tr>\n",
       "    <tr>\n",
       "      <th>180158</th>\n",
       "      <td>146</td>\n",
       "      <td>560000</td>\n",
       "      <td>66</td>\n",
       "      <td>0</td>\n",
       "      <td>0</td>\n",
       "      <td>0</td>\n",
       "      <td>0</td>\n",
       "      <td>0</td>\n",
       "      <td>0</td>\n",
       "      <td>0</td>\n",
       "      <td>...</td>\n",
       "      <td>0</td>\n",
       "      <td>0</td>\n",
       "      <td>0</td>\n",
       "      <td>0</td>\n",
       "      <td>0</td>\n",
       "      <td>0</td>\n",
       "      <td>0</td>\n",
       "      <td>0</td>\n",
       "      <td>0</td>\n",
       "      <td>0</td>\n",
       "    </tr>\n",
       "    <tr>\n",
       "      <th>180159</th>\n",
       "      <td>145</td>\n",
       "      <td>540000</td>\n",
       "      <td>66</td>\n",
       "      <td>0</td>\n",
       "      <td>0</td>\n",
       "      <td>0</td>\n",
       "      <td>0</td>\n",
       "      <td>0</td>\n",
       "      <td>0</td>\n",
       "      <td>0</td>\n",
       "      <td>...</td>\n",
       "      <td>0</td>\n",
       "      <td>0</td>\n",
       "      <td>0</td>\n",
       "      <td>0</td>\n",
       "      <td>0</td>\n",
       "      <td>0</td>\n",
       "      <td>0</td>\n",
       "      <td>0</td>\n",
       "      <td>0</td>\n",
       "      <td>0</td>\n",
       "    </tr>\n",
       "    <tr>\n",
       "      <th>180160</th>\n",
       "      <td>142</td>\n",
       "      <td>638000</td>\n",
       "      <td>66</td>\n",
       "      <td>0</td>\n",
       "      <td>0</td>\n",
       "      <td>0</td>\n",
       "      <td>0</td>\n",
       "      <td>0</td>\n",
       "      <td>0</td>\n",
       "      <td>0</td>\n",
       "      <td>...</td>\n",
       "      <td>0</td>\n",
       "      <td>0</td>\n",
       "      <td>0</td>\n",
       "      <td>0</td>\n",
       "      <td>0</td>\n",
       "      <td>0</td>\n",
       "      <td>0</td>\n",
       "      <td>0</td>\n",
       "      <td>0</td>\n",
       "      <td>0</td>\n",
       "    </tr>\n",
       "    <tr>\n",
       "      <th>180161</th>\n",
       "      <td>146</td>\n",
       "      <td>683500</td>\n",
       "      <td>66</td>\n",
       "      <td>0</td>\n",
       "      <td>0</td>\n",
       "      <td>0</td>\n",
       "      <td>0</td>\n",
       "      <td>0</td>\n",
       "      <td>0</td>\n",
       "      <td>0</td>\n",
       "      <td>...</td>\n",
       "      <td>0</td>\n",
       "      <td>0</td>\n",
       "      <td>0</td>\n",
       "      <td>0</td>\n",
       "      <td>0</td>\n",
       "      <td>0</td>\n",
       "      <td>0</td>\n",
       "      <td>0</td>\n",
       "      <td>0</td>\n",
       "      <td>0</td>\n",
       "    </tr>\n",
       "    <tr>\n",
       "      <th>180162</th>\n",
       "      <td>142</td>\n",
       "      <td>670000</td>\n",
       "      <td>65</td>\n",
       "      <td>0</td>\n",
       "      <td>0</td>\n",
       "      <td>0</td>\n",
       "      <td>0</td>\n",
       "      <td>0</td>\n",
       "      <td>0</td>\n",
       "      <td>0</td>\n",
       "      <td>...</td>\n",
       "      <td>0</td>\n",
       "      <td>0</td>\n",
       "      <td>0</td>\n",
       "      <td>0</td>\n",
       "      <td>0</td>\n",
       "      <td>0</td>\n",
       "      <td>0</td>\n",
       "      <td>0</td>\n",
       "      <td>0</td>\n",
       "      <td>0</td>\n",
       "    </tr>\n",
       "  </tbody>\n",
       "</table>\n",
       "<p>180163 rows × 52 columns</p>\n",
       "</div>"
      ],
      "text/plain": [
       "        floor_area_sqm  resale_price  remaining_lease  BEDOK  BISHAN  \\\n",
       "0                   44        257800               66      0       0   \n",
       "1                   44        263000               65      0       0   \n",
       "2                   44        275000               65      0       0   \n",
       "3                   45        260000               73      0       0   \n",
       "4                   45        226000               73      0       0   \n",
       "...                ...           ...              ...    ...     ...   \n",
       "180158             146        560000               66      0       0   \n",
       "180159             145        540000               66      0       0   \n",
       "180160             142        638000               66      0       0   \n",
       "180161             146        683500               66      0       0   \n",
       "180162             142        670000               65      0       0   \n",
       "\n",
       "        BUKIT BATOK  BUKIT MERAH  BUKIT PANJANG  BUKIT TIMAH  CENTRAL AREA  \\\n",
       "0                 0            0              0            0             0   \n",
       "1                 0            0              0            0             0   \n",
       "2                 0            0              0            0             0   \n",
       "3                 0            0              0            0             0   \n",
       "4                 0            0              0            0             0   \n",
       "...             ...          ...            ...          ...           ...   \n",
       "180158            0            0              0            0             0   \n",
       "180159            0            0              0            0             0   \n",
       "180160            0            0              0            0             0   \n",
       "180161            0            0              0            0             0   \n",
       "180162            0            0              0            0             0   \n",
       "\n",
       "        ...  28 TO 30  31 TO 33  31 TO 35  34 TO 36  36 TO 40  37 TO 39  \\\n",
       "0       ...         0         0         0         0         0         0   \n",
       "1       ...         0         0         0         0         0         0   \n",
       "2       ...         0         0         0         0         0         0   \n",
       "3       ...         0         0         0         0         0         0   \n",
       "4       ...         0         0         0         0         0         0   \n",
       "...     ...       ...       ...       ...       ...       ...       ...   \n",
       "180158  ...         0         0         0         0         0         0   \n",
       "180159  ...         0         0         0         0         0         0   \n",
       "180160  ...         0         0         0         0         0         0   \n",
       "180161  ...         0         0         0         0         0         0   \n",
       "180162  ...         0         0         0         0         0         0   \n",
       "\n",
       "        40 TO 42  43 TO 45  46 TO 48  49 TO 51  \n",
       "0              0         0         0         0  \n",
       "1              0         0         0         0  \n",
       "2              0         0         0         0  \n",
       "3              0         0         0         0  \n",
       "4              0         0         0         0  \n",
       "...          ...       ...       ...       ...  \n",
       "180158         0         0         0         0  \n",
       "180159         0         0         0         0  \n",
       "180160         0         0         0         0  \n",
       "180161         0         0         0         0  \n",
       "180162         0         0         0         0  \n",
       "\n",
       "[180163 rows x 52 columns]"
      ]
     },
     "execution_count": 204,
     "metadata": {},
     "output_type": "execute_result"
    }
   ],
   "source": [
    "hdb"
   ]
  },
  {
   "cell_type": "code",
   "execution_count": 205,
   "metadata": {},
   "outputs": [
    {
     "name": "stdout",
     "output_type": "stream",
     "text": [
      "<class 'pandas.core.frame.DataFrame'>\n",
      "RangeIndex: 180163 entries, 0 to 180162\n",
      "Data columns (total 52 columns):\n",
      " #   Column           Non-Null Count   Dtype\n",
      "---  ------           --------------   -----\n",
      " 0   floor_area_sqm   180163 non-null  int64\n",
      " 1   resale_price     180163 non-null  int64\n",
      " 2   remaining_lease  180163 non-null  int64\n",
      " 3   BEDOK            180163 non-null  int64\n",
      " 4   BISHAN           180163 non-null  int64\n",
      " 5   BUKIT BATOK      180163 non-null  int64\n",
      " 6   BUKIT MERAH      180163 non-null  int64\n",
      " 7   BUKIT PANJANG    180163 non-null  int64\n",
      " 8   BUKIT TIMAH      180163 non-null  int64\n",
      " 9   CENTRAL AREA     180163 non-null  int64\n",
      " 10  CHOA CHU KANG    180163 non-null  int64\n",
      " 11  CLEMENTI         180163 non-null  int64\n",
      " 12  GEYLANG          180163 non-null  int64\n",
      " 13  HOUGANG          180163 non-null  int64\n",
      " 14  JURONG EAST      180163 non-null  int64\n",
      " 15  JURONG WEST      180163 non-null  int64\n",
      " 16  KALLANG/WHAMPOA  180163 non-null  int64\n",
      " 17  MARINE PARADE    180163 non-null  int64\n",
      " 18  PASIR RIS        180163 non-null  int64\n",
      " 19  PUNGGOL          180163 non-null  int64\n",
      " 20  QUEENSTOWN       180163 non-null  int64\n",
      " 21  SEMBAWANG        180163 non-null  int64\n",
      " 22  SENGKANG         180163 non-null  int64\n",
      " 23  SERANGOON        180163 non-null  int64\n",
      " 24  TAMPINES         180163 non-null  int64\n",
      " 25  TOA PAYOH        180163 non-null  int64\n",
      " 26  WOODLANDS        180163 non-null  int64\n",
      " 27  YISHUN           180163 non-null  int64\n",
      " 28  01 TO 05         180163 non-null  int64\n",
      " 29  04 TO 06         180163 non-null  int64\n",
      " 30  06 TO 10         180163 non-null  int64\n",
      " 31  07 TO 09         180163 non-null  int64\n",
      " 32  10 TO 12         180163 non-null  int64\n",
      " 33  11 TO 15         180163 non-null  int64\n",
      " 34  13 TO 15         180163 non-null  int64\n",
      " 35  16 TO 18         180163 non-null  int64\n",
      " 36  16 TO 20         180163 non-null  int64\n",
      " 37  19 TO 21         180163 non-null  int64\n",
      " 38  21 TO 25         180163 non-null  int64\n",
      " 39  22 TO 24         180163 non-null  int64\n",
      " 40  25 TO 27         180163 non-null  int64\n",
      " 41  26 TO 30         180163 non-null  int64\n",
      " 42  28 TO 30         180163 non-null  int64\n",
      " 43  31 TO 33         180163 non-null  int64\n",
      " 44  31 TO 35         180163 non-null  int64\n",
      " 45  34 TO 36         180163 non-null  int64\n",
      " 46  36 TO 40         180163 non-null  int64\n",
      " 47  37 TO 39         180163 non-null  int64\n",
      " 48  40 TO 42         180163 non-null  int64\n",
      " 49  43 TO 45         180163 non-null  int64\n",
      " 50  46 TO 48         180163 non-null  int64\n",
      " 51  49 TO 51         180163 non-null  int64\n",
      "dtypes: int64(52)\n",
      "memory usage: 71.5 MB\n"
     ]
    }
   ],
   "source": [
    "hdb.info()"
   ]
  },
  {
   "cell_type": "code",
   "execution_count": 186,
   "metadata": {},
   "outputs": [],
   "source": [
    "hdb_1 = hdb.drop(['town','storey_range'],axis=1)"
   ]
  },
  {
   "cell_type": "markdown",
   "metadata": {},
   "source": [
    "# Train Test Split"
   ]
  },
  {
   "cell_type": "code",
   "execution_count": 206,
   "metadata": {},
   "outputs": [],
   "source": [
    "from sklearn.model_selection import train_test_split"
   ]
  },
  {
   "cell_type": "code",
   "execution_count": 207,
   "metadata": {},
   "outputs": [],
   "source": [
    "X = hdb.drop('resale_price',axis=1)\n",
    "y = hdb['resale_price']"
   ]
  },
  {
   "cell_type": "code",
   "execution_count": 208,
   "metadata": {},
   "outputs": [],
   "source": [
    "X_train, X_test, y_train, y_test = train_test_split(X, y, test_size=0.30, random_state=111)"
   ]
  },
  {
   "cell_type": "markdown",
   "metadata": {},
   "source": [
    "# Decision Tree"
   ]
  },
  {
   "cell_type": "code",
   "execution_count": 209,
   "metadata": {},
   "outputs": [],
   "source": [
    "from sklearn.tree import DecisionTreeRegressor"
   ]
  },
  {
   "cell_type": "code",
   "execution_count": 365,
   "metadata": {},
   "outputs": [],
   "source": [
    "dtree = DecisionTreeRegressor(min_samples_leaf=20, min_samples_split=40,random_state=45)"
   ]
  },
  {
   "cell_type": "code",
   "execution_count": 366,
   "metadata": {},
   "outputs": [
    {
     "data": {
      "text/plain": [
       "DecisionTreeRegressor(ccp_alpha=0.0, criterion='mse', max_depth=None,\n",
       "                      max_features=None, max_leaf_nodes=None,\n",
       "                      min_impurity_decrease=0.0, min_impurity_split=None,\n",
       "                      min_samples_leaf=20, min_samples_split=40,\n",
       "                      min_weight_fraction_leaf=0.0, presort='deprecated',\n",
       "                      random_state=45, splitter='best')"
      ]
     },
     "execution_count": 366,
     "metadata": {},
     "output_type": "execute_result"
    }
   ],
   "source": [
    "dtree.fit(X_train,y_train)"
   ]
  },
  {
   "cell_type": "code",
   "execution_count": 367,
   "metadata": {},
   "outputs": [],
   "source": [
    "from sklearn.metrics import mean_squared_error, r2_score\n",
    "from sklearn import metrics"
   ]
  },
  {
   "cell_type": "code",
   "execution_count": 368,
   "metadata": {},
   "outputs": [],
   "source": [
    "predictions = dtree.predict(X_test)"
   ]
  },
  {
   "cell_type": "code",
   "execution_count": 369,
   "metadata": {},
   "outputs": [
    {
     "data": {
      "text/plain": [
       "0.900158031346269"
      ]
     },
     "execution_count": 369,
     "metadata": {},
     "output_type": "execute_result"
    }
   ],
   "source": [
    "R2 = r2_score(y_test,predictions)\n",
    "R2"
   ]
  },
  {
   "cell_type": "code",
   "execution_count": 370,
   "metadata": {},
   "outputs": [
    {
     "name": "stdout",
     "output_type": "stream",
     "text": [
      "MAE: 31624.66196858489\n",
      "MSE: 1980326038.305338\n",
      "RMSE: 44500.854354779956\n"
     ]
    }
   ],
   "source": [
    "print('MAE:', metrics.mean_absolute_error(y_test, predictions))\n",
    "print('MSE:', metrics.mean_squared_error(y_test, predictions))\n",
    "print('RMSE:', np.sqrt(metrics.mean_squared_error(y_test, predictions)))"
   ]
  },
  {
   "cell_type": "markdown",
   "metadata": {},
   "source": [
    "# Random Forest"
   ]
  },
  {
   "cell_type": "code",
   "execution_count": 356,
   "metadata": {},
   "outputs": [
    {
     "data": {
      "text/plain": [
       "RandomForestRegressor(bootstrap=True, ccp_alpha=0.0, criterion='mse',\n",
       "                      max_depth=None, max_features='auto', max_leaf_nodes=None,\n",
       "                      max_samples=None, min_impurity_decrease=0.0,\n",
       "                      min_impurity_split=None, min_samples_leaf=1,\n",
       "                      min_samples_split=2, min_weight_fraction_leaf=0.0,\n",
       "                      n_estimators=200, n_jobs=None, oob_score=False,\n",
       "                      random_state=45, verbose=0, warm_start=False)"
      ]
     },
     "execution_count": 356,
     "metadata": {},
     "output_type": "execute_result"
    }
   ],
   "source": [
    "from sklearn.ensemble import RandomForestRegressor\n",
    "rfc = RandomForestRegressor(n_estimators=200,random_state=45)\n",
    "rfc.fit(X_train, y_train)"
   ]
  },
  {
   "cell_type": "code",
   "execution_count": 357,
   "metadata": {},
   "outputs": [],
   "source": [
    "rfc_pred = rfc.predict(X_test)"
   ]
  },
  {
   "cell_type": "code",
   "execution_count": 358,
   "metadata": {},
   "outputs": [
    {
     "data": {
      "text/plain": [
       "0.9167307537646161"
      ]
     },
     "execution_count": 358,
     "metadata": {},
     "output_type": "execute_result"
    }
   ],
   "source": [
    "R2 = r2_score(y_test,rfc_pred)\n",
    "R2"
   ]
  },
  {
   "cell_type": "code",
   "execution_count": 359,
   "metadata": {},
   "outputs": [
    {
     "name": "stdout",
     "output_type": "stream",
     "text": [
      "MAE: 28545.92696746107\n",
      "MSE: 1651612630.775458\n",
      "RMSE: 40640.03728806678\n"
     ]
    }
   ],
   "source": [
    "print('MAE:', metrics.mean_absolute_error(y_test, rfc_pred))\n",
    "print('MSE:', metrics.mean_squared_error(y_test, rfc_pred))\n",
    "print('RMSE:', np.sqrt(metrics.mean_squared_error(y_test, rfc_pred)))"
   ]
  },
  {
   "cell_type": "code",
   "execution_count": null,
   "metadata": {},
   "outputs": [],
   "source": [
    "#Both Decision Tree and Random Forest performed better than Linear Regression in terms of R2 and RMSE\n",
    "#Changed to a slightly higher number for min_samples_leaf and min_samples_split in DT to try to prevent overfitting."
   ]
  }
 ],
 "metadata": {
  "kernelspec": {
   "display_name": "Python 3",
   "language": "python",
   "name": "python3"
  },
  "language_info": {
   "codemirror_mode": {
    "name": "ipython",
    "version": 3
   },
   "file_extension": ".py",
   "mimetype": "text/x-python",
   "name": "python",
   "nbconvert_exporter": "python",
   "pygments_lexer": "ipython3",
   "version": "3.7.6"
  }
 },
 "nbformat": 4,
 "nbformat_minor": 4
}
